{
 "cells": [
  {
   "cell_type": "code",
   "execution_count": 8,
   "id": "aef400ce",
   "metadata": {},
   "outputs": [
    {
     "data": {
      "text/plain": [
       "[1, 1, 2, 3, 4, 5, 6, 8, 12]"
      ]
     },
     "execution_count": 8,
     "metadata": {},
     "output_type": "execute_result"
    }
   ],
   "source": [
    "arr = [5,4,6,8,1,12,3,2,1]\n",
    "\n",
    "def swap(arr,i,j):\n",
    "    tmp = arr[i]\n",
    "    arr[i] = arr[j]\n",
    "    arr[j] = tmp\n",
    "\n",
    "def insertionSort(arr):\n",
    "    \n",
    "    for i in range(1,len(arr)):\n",
    "        for j in range(i-1,-1,-1):\n",
    "            if arr[j+1] < arr[j]:\n",
    "                swap(arr,j,j+1)\n",
    "insertionSort(arr)\n",
    "arr\n"
   ]
  }
 ],
 "metadata": {
  "kernelspec": {
   "display_name": "Python 3 (ipykernel)",
   "language": "python",
   "name": "python3"
  },
  "language_info": {
   "codemirror_mode": {
    "name": "ipython",
    "version": 3
   },
   "file_extension": ".py",
   "mimetype": "text/x-python",
   "name": "python",
   "nbconvert_exporter": "python",
   "pygments_lexer": "ipython3",
   "version": "3.11.4"
  }
 },
 "nbformat": 4,
 "nbformat_minor": 5
}
