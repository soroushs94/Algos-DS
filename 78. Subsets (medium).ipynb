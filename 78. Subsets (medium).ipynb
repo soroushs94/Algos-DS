{
 "cells": [
  {
   "cell_type": "code",
   "execution_count": 2,
   "id": "55e061af",
   "metadata": {},
   "outputs": [],
   "source": [
    "class Solution:\n",
    "    def subsets(self, nums):\n",
    "        if not nums:\n",
    "            return []\n",
    "        if len(nums) == 1:\n",
    "            return [[nums[0]],[]]\n",
    "\n",
    "        subres = self.subsets(nums[1:])\n",
    "        to_add = [x+[nums[0]] for x in subres]\n",
    "        res = subres + to_add\n",
    "        return res"
   ]
  },
  {
   "cell_type": "code",
   "execution_count": null,
   "id": "724b6062",
   "metadata": {},
   "outputs": [],
   "source": []
  }
 ],
 "metadata": {
  "kernelspec": {
   "display_name": "Python 3 (ipykernel)",
   "language": "python",
   "name": "python3"
  },
  "language_info": {
   "codemirror_mode": {
    "name": "ipython",
    "version": 3
   },
   "file_extension": ".py",
   "mimetype": "text/x-python",
   "name": "python",
   "nbconvert_exporter": "python",
   "pygments_lexer": "ipython3",
   "version": "3.11.4"
  }
 },
 "nbformat": 4,
 "nbformat_minor": 5
}
