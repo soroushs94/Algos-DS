{
 "cells": [
  {
   "cell_type": "code",
   "execution_count": 1,
   "id": "ca2ec156",
   "metadata": {},
   "outputs": [],
   "source": [
    "def quickSelect(nums,k):\n",
    "    if len(nums) < k:\n",
    "        return None\n",
    "    l, r = [], []\n",
    "    pivot = nums[-1]\n",
    "    for i in range(len(nums) - 1):\n",
    "        if nums[i] <= pivot:\n",
    "            l.append(nums[i])\n",
    "        else:\n",
    "            r.append(nums[i])\n",
    "    if len(l) == k-1:\n",
    "        return pivot\n",
    "    elif len(l) < k-1:\n",
    "        return quickSelect(r, k-len(l)-1)\n",
    "    else:\n",
    "        return quickSelect(l,k)"
   ]
  },
  {
   "cell_type": "code",
   "execution_count": 9,
   "id": "c2390710",
   "metadata": {},
   "outputs": [
    {
     "data": {
      "text/plain": [
       "1"
      ]
     },
     "execution_count": 9,
     "metadata": {},
     "output_type": "execute_result"
    }
   ],
   "source": [
    "a = [10,9,5,8,34,1,5,7,3,8,2,5,7]\n",
    "quickSelect(a,1)"
   ]
  },
  {
   "cell_type": "code",
   "execution_count": 10,
   "id": "1cad3d8f",
   "metadata": {},
   "outputs": [
    {
     "data": {
      "text/plain": [
       "34"
      ]
     },
     "execution_count": 10,
     "metadata": {},
     "output_type": "execute_result"
    }
   ],
   "source": [
    "quickSelect(a,13)"
   ]
  },
  {
   "cell_type": "code",
   "execution_count": 11,
   "id": "15ebde39",
   "metadata": {},
   "outputs": [
    {
     "data": {
      "text/plain": [
       "5"
      ]
     },
     "execution_count": 11,
     "metadata": {},
     "output_type": "execute_result"
    }
   ],
   "source": [
    "quickSelect(a,4)"
   ]
  }
 ],
 "metadata": {
  "kernelspec": {
   "display_name": "Python 3 (ipykernel)",
   "language": "python",
   "name": "python3"
  },
  "language_info": {
   "codemirror_mode": {
    "name": "ipython",
    "version": 3
   },
   "file_extension": ".py",
   "mimetype": "text/x-python",
   "name": "python",
   "nbconvert_exporter": "python",
   "pygments_lexer": "ipython3",
   "version": "3.11.4"
  }
 },
 "nbformat": 4,
 "nbformat_minor": 5
}
