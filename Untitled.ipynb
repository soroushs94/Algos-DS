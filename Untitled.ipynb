{
 "cells": [
  {
   "cell_type": "code",
   "execution_count": null,
   "id": "5941a348",
   "metadata": {},
   "outputs": [],
   "source": [
    "def checkTree(root):\n",
    "    if not root:\n",
    "        return\n",
    "    \n",
    "    condition = False\n",
    "    \n",
    "    def helper(root):\n",
    "        nonlocal condition\n",
    "        \n",
    "        if not(root.left or root.right) and (root.val != 0):\n",
    "            condition = True\n",
    "        \n",
    "        if (root.val !=0):\n",
    "            if (root.left):\n",
    "                helper(root.left)\n",
    "            if (root.right):\n",
    "                helper(root.left)\n",
    "        \n",
    "    helper(root)\n",
    "    return condition\n",
    "    "
   ]
  },
  {
   "cell_type": "code",
   "execution_count": null,
   "id": "0b6cea36",
   "metadata": {},
   "outputs": [],
   "source": [
    "def canreachleaf(root):\n",
    "    if (not root) or (root.val ==0):\n",
    "        return False\n",
    "    \n",
    "    if not root.right and not root.left:\n",
    "        return True\n",
    "    if root.right or root.left:\n",
    "        return canreachleaf(root.right) or canreacleaf(root.left)"
   ]
  }
 ],
 "metadata": {
  "kernelspec": {
   "display_name": "Python 3 (ipykernel)",
   "language": "python",
   "name": "python3"
  },
  "language_info": {
   "codemirror_mode": {
    "name": "ipython",
    "version": 3
   },
   "file_extension": ".py",
   "mimetype": "text/x-python",
   "name": "python",
   "nbconvert_exporter": "python",
   "pygments_lexer": "ipython3",
   "version": "3.11.4"
  }
 },
 "nbformat": 4,
 "nbformat_minor": 5
}
