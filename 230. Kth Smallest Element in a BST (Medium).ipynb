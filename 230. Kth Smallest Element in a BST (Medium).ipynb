{
 "cells": [
  {
   "cell_type": "code",
   "execution_count": null,
   "id": "9eb27bed",
   "metadata": {},
   "outputs": [],
   "source": [
    "# Definition for a binary tree node.\n",
    "# class TreeNode:\n",
    "#     def __init__(self, val=0, left=None, right=None):\n",
    "#         self.val = val\n",
    "#         self.left = left\n",
    "#         self.right = right\n",
    "\n",
    "\n",
    "class Solution:\n",
    "    def kthSmallest(self, root: Optional[TreeNode], k: int) -> int:\n",
    "        \n",
    "        self.count = 1\n",
    "        self.res = None\n",
    "\n",
    "        def inOrder(root):\n",
    "            #nonlocal count, res\n",
    "            if not root:\n",
    "                return\n",
    "            \n",
    "            if self.count <= k:\n",
    "                inOrder(root.left)\n",
    "                if self.count == k:\n",
    "                    self.res = root.val\n",
    "                    self.count += 1\n",
    "                else:\n",
    "                    self.count += 1\n",
    "                inOrder(root.right)\n",
    "\n",
    "        inOrder(root)\n",
    "        return self.res\n",
    "\n",
    "\n",
    "        "
   ]
  }
 ],
 "metadata": {
  "kernelspec": {
   "display_name": "Python 3 (ipykernel)",
   "language": "python",
   "name": "python3"
  },
  "language_info": {
   "codemirror_mode": {
    "name": "ipython",
    "version": 3
   },
   "file_extension": ".py",
   "mimetype": "text/x-python",
   "name": "python",
   "nbconvert_exporter": "python",
   "pygments_lexer": "ipython3",
   "version": "3.11.4"
  }
 },
 "nbformat": 4,
 "nbformat_minor": 5
}
