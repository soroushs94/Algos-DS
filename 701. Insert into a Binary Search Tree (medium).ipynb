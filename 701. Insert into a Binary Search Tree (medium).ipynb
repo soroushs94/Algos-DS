{
 "cells": [
  {
   "cell_type": "code",
   "execution_count": 1,
   "id": "b7804af3",
   "metadata": {},
   "outputs": [
    {
     "ename": "NameError",
     "evalue": "name 'Optional' is not defined",
     "output_type": "error",
     "traceback": [
      "\u001b[1;31m---------------------------------------------------------------------------\u001b[0m",
      "\u001b[1;31mNameError\u001b[0m                                 Traceback (most recent call last)",
      "Cell \u001b[1;32mIn[1], line 7\u001b[0m\n\u001b[0;32m      1\u001b[0m \u001b[38;5;66;03m# Definition for a binary tree node.\u001b[39;00m\n\u001b[0;32m      2\u001b[0m \u001b[38;5;66;03m# class TreeNode:\u001b[39;00m\n\u001b[0;32m      3\u001b[0m \u001b[38;5;66;03m#     def __init__(self, val=0, left=None, right=None):\u001b[39;00m\n\u001b[0;32m      4\u001b[0m \u001b[38;5;66;03m#         self.val = val\u001b[39;00m\n\u001b[0;32m      5\u001b[0m \u001b[38;5;66;03m#         self.left = left\u001b[39;00m\n\u001b[0;32m      6\u001b[0m \u001b[38;5;66;03m#         self.right = right\u001b[39;00m\n\u001b[1;32m----> 7\u001b[0m \u001b[38;5;28;01mclass\u001b[39;00m \u001b[38;5;21;01mSolution\u001b[39;00m:\n\u001b[0;32m      8\u001b[0m     \u001b[38;5;28;01mdef\u001b[39;00m \u001b[38;5;21minsertIntoBST\u001b[39m(\u001b[38;5;28mself\u001b[39m, root: Optional[TreeNode], val: \u001b[38;5;28mint\u001b[39m) \u001b[38;5;241m-\u001b[39m\u001b[38;5;241m>\u001b[39m Optional[TreeNode]:\n\u001b[0;32m      9\u001b[0m         \u001b[38;5;28;01mif\u001b[39;00m \u001b[38;5;129;01mnot\u001b[39;00m root:\n",
      "Cell \u001b[1;32mIn[1], line 8\u001b[0m, in \u001b[0;36mSolution\u001b[1;34m()\u001b[0m\n\u001b[0;32m      7\u001b[0m \u001b[38;5;28;01mclass\u001b[39;00m \u001b[38;5;21;01mSolution\u001b[39;00m:\n\u001b[1;32m----> 8\u001b[0m     \u001b[38;5;28;01mdef\u001b[39;00m \u001b[38;5;21minsertIntoBST\u001b[39m(\u001b[38;5;28mself\u001b[39m, root: Optional[TreeNode], val: \u001b[38;5;28mint\u001b[39m) \u001b[38;5;241m-\u001b[39m\u001b[38;5;241m>\u001b[39m Optional[TreeNode]:\n\u001b[0;32m      9\u001b[0m         \u001b[38;5;28;01mif\u001b[39;00m \u001b[38;5;129;01mnot\u001b[39;00m root:\n\u001b[0;32m     10\u001b[0m             \u001b[38;5;28;01mreturn\u001b[39;00m TreeNode(val)\n",
      "\u001b[1;31mNameError\u001b[0m: name 'Optional' is not defined"
     ]
    }
   ],
   "source": [
    "# Definition for a binary tree node.\n",
    "# class TreeNode:\n",
    "#     def __init__(self, val=0, left=None, right=None):\n",
    "#         self.val = val\n",
    "#         self.left = left\n",
    "#         self.right = right\n",
    "class Solution:\n",
    "    def insertIntoBST(self, root: Optional[TreeNode], val: int) -> Optional[TreeNode]:\n",
    "        if not root:\n",
    "            return TreeNode(val)\n",
    "\n",
    "        if root.val > val:\n",
    "            root.left = self.insertIntoBST(root.left,val)\n",
    "        else:\n",
    "            root.right = self.insertIntoBST(root.right, val)\n",
    "            \n",
    "        return root\n",
    "\n",
    "        \"\"\"\n",
    "        if root.val > val:\n",
    "            if root.left:\n",
    "                if self.getMax(root.left) < val:\n",
    "                    root.left = TreeNode(val,left = root.left)\n",
    "                else:\n",
    "                    root.left = self.insertIntoBST(root.left,val)\n",
    "            else:\n",
    "                root.left = TreeNode(val)\n",
    "        else:\n",
    "            if root.right:\n",
    "                if self.getMin(root.right) > val:\n",
    "                    root.right = TreeNode(val, right = root.right)\n",
    "                else:\n",
    "                    root.right = self.insertIntoBST(root.right,val)\n",
    "            else:\n",
    "                root.right = TreeNode(val)\n",
    "        return root\n",
    "\n",
    "\n",
    "    def getMin(self,root):\n",
    "        minNode = root\n",
    "        while minNode.left:\n",
    "            minNode = minNode.left\n",
    "        return minNode.val\n",
    "    \n",
    "    def getMax(self,root):\n",
    "        maxNode = root\n",
    "        while maxNode.right:\n",
    "            maxNode = maxNode.right\n",
    "        return maxNode.val                                          \n",
    "    \"\"\"\n",
    "        "
   ]
  },
  {
   "cell_type": "code",
   "execution_count": null,
   "id": "3fdc6447",
   "metadata": {},
   "outputs": [],
   "source": []
  }
 ],
 "metadata": {
  "kernelspec": {
   "display_name": "Python 3 (ipykernel)",
   "language": "python",
   "name": "python3"
  },
  "language_info": {
   "codemirror_mode": {
    "name": "ipython",
    "version": 3
   },
   "file_extension": ".py",
   "mimetype": "text/x-python",
   "name": "python",
   "nbconvert_exporter": "python",
   "pygments_lexer": "ipython3",
   "version": "3.11.4"
  }
 },
 "nbformat": 4,
 "nbformat_minor": 5
}
