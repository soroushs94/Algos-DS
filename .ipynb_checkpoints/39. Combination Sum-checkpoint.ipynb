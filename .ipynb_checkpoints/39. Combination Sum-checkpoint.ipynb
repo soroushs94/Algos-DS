{
 "cells": [
  {
   "cell_type": "code",
   "execution_count": null,
   "id": "3a77d9aa",
   "metadata": {},
   "outputs": [],
   "source": [
    "class Solution:\n",
    "    def combinationSum(self, candidates: List[int], target: int) -> List[List[int]]:\n",
    "        results = []\n",
    "\n",
    "        def dfs(combo):\n",
    "            nonlocal target, results\n",
    "            if combo:\n",
    "                currSum = sum(combo)\n",
    "            else:\n",
    "                currSum = 0\n",
    "            for candidate in candidates:\n",
    "                if currSum + candidate == target:\n",
    "                    to_add = sorted(combo + [candidate])\n",
    "                    if to_add not in results:\n",
    "                        results.append(to_add)\n",
    "                elif currSum + candidate > target:\n",
    "                    pass\n",
    "                else:\n",
    "                    to_call = combo + [candidate]\n",
    "                    dfs(to_call)\n",
    "                \n",
    "        \n",
    "        dfs([])\n",
    "        \n",
    "        return results"
   ]
  }
 ],
 "metadata": {
  "kernelspec": {
   "display_name": "Python 3 (ipykernel)",
   "language": "python",
   "name": "python3"
  },
  "language_info": {
   "codemirror_mode": {
    "name": "ipython",
    "version": 3
   },
   "file_extension": ".py",
   "mimetype": "text/x-python",
   "name": "python",
   "nbconvert_exporter": "python",
   "pygments_lexer": "ipython3",
   "version": "3.11.4"
  }
 },
 "nbformat": 4,
 "nbformat_minor": 5
}
