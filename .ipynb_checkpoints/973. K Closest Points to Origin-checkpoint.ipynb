{
 "cells": [
  {
   "cell_type": "code",
   "execution_count": null,
   "id": "7068717c",
   "metadata": {},
   "outputs": [],
   "source": [
    "import heapq\n",
    "\n",
    "class Solution:\n",
    "    def kClosest(self, points: List[List[int]], k: int) -> List[List[int]]:\n",
    "        dist_dic = {}\n",
    "        distances = []\n",
    "        idx = 0\n",
    "        for point in points:\n",
    "           distance = point[0]**2 + point[1]**2\n",
    "           dist_dic[idx] = (point,distance)\n",
    "           distances.append(distance)\n",
    "           idx += 1\n",
    "        heapq.heapify(distances)\n",
    "        for i in range(k):\n",
    "            max_dist = heapq.heappop(distances)\n",
    "        \n",
    "        k_points = [value[0] for item,value in dist_dic.items() if value[1] <=max_dist]\n",
    "        \n",
    "\n",
    "        return k_points\n",
    "        \n",
    "        "
   ]
  },
  {
   "cell_type": "code",
   "execution_count": null,
   "id": "aba5a5c8",
   "metadata": {},
   "outputs": [],
   "source": [
    "import heapq\n",
    "\n",
    "class Point:\n",
    "    def __init__(self,x,y):\n",
    "        self.x = x\n",
    "        self.y = y\n",
    "        self.dist = (x**2 + y**2)\n",
    "        \n",
    "    def __lt__(self,p1,p2):\n",
    "        return p1.dist < p2.dist\n",
    "    \n",
    "class Solution:\n",
    "    def kClosest(self, points: List[List[int]], k: int) -> List[List[int]]:\n",
    "        \n",
    "        points_ = [Point(x,y) for x,y in points]\n",
    "        heapq.heapify(points)\n",
    "        \n",
    "        res = []\n",
    "        for _ in range(k):\n",
    "            res.append(heapq.heappop(points_))\n",
    "            \n",
    "        return res"
   ]
  }
 ],
 "metadata": {
  "kernelspec": {
   "display_name": "Python 3 (ipykernel)",
   "language": "python",
   "name": "python3"
  },
  "language_info": {
   "codemirror_mode": {
    "name": "ipython",
    "version": 3
   },
   "file_extension": ".py",
   "mimetype": "text/x-python",
   "name": "python",
   "nbconvert_exporter": "python",
   "pygments_lexer": "ipython3",
   "version": "3.11.4"
  }
 },
 "nbformat": 4,
 "nbformat_minor": 5
}
