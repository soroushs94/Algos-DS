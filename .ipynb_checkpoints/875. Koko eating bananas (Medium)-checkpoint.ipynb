{
 "cells": [
  {
   "cell_type": "code",
   "execution_count": null,
   "id": "205d490b",
   "metadata": {},
   "outputs": [],
   "source": [
    "class Solution:\n",
    "    def minEatingSpeed(self, piles: List[int], h: int) -> int:\n",
    "        l = 1\n",
    "        r = max(piles)\n",
    "\n",
    "        if (r ==1) or (self.countHours(piles,1) <=h):\n",
    "            return 1\n",
    "\n",
    "        if h == len(piles):\n",
    "            return r\n",
    "\n",
    "        while l <= r:\n",
    "            k = (l+r) // 2\n",
    "            if (self.countHours(piles, k) <= h):\n",
    "                if (self.countHours(piles, k-1) > h):\n",
    "                    return k\n",
    "                else:\n",
    "                    r = k \n",
    "            else:\n",
    "                l = k + 1\n",
    "\n",
    "\n",
    "    \n",
    "    def countHours(self,piles,k):\n",
    "        return sum(x//k  if x % k == 0 else x//k + 1 for x in piles)"
   ]
  }
 ],
 "metadata": {
  "kernelspec": {
   "display_name": "Python 3 (ipykernel)",
   "language": "python",
   "name": "python3"
  },
  "language_info": {
   "codemirror_mode": {
    "name": "ipython",
    "version": 3
   },
   "file_extension": ".py",
   "mimetype": "text/x-python",
   "name": "python",
   "nbconvert_exporter": "python",
   "pygments_lexer": "ipython3",
   "version": "3.11.4"
  }
 },
 "nbformat": 4,
 "nbformat_minor": 5
}
