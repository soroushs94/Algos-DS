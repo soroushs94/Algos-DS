{
 "cells": [
  {
   "cell_type": "code",
   "execution_count": 2,
   "id": "b0eaf51d",
   "metadata": {},
   "outputs": [],
   "source": [
    "class Solution:\n",
    "    def sortColors(self, nums):\n",
    "        \"\"\"\n",
    "        Do not return anything, modify nums in-place instead.\n",
    "        \"\"\"\n",
    "        colors = {0:0,1:0,2:0}\n",
    "        for num in nums:\n",
    "            colors[num] += 1\n",
    "        \n",
    "        index = 0\n",
    "        for key in [0,1,2]:\n",
    "            for num in range(colors[key]):\n",
    "                nums[index] = key\n",
    "                index+= 1 "
   ]
  },
  {
   "cell_type": "code",
   "execution_count": null,
   "id": "ce4fcd81",
   "metadata": {},
   "outputs": [],
   "source": []
  }
 ],
 "metadata": {
  "kernelspec": {
   "display_name": "Python 3 (ipykernel)",
   "language": "python",
   "name": "python3"
  },
  "language_info": {
   "codemirror_mode": {
    "name": "ipython",
    "version": 3
   },
   "file_extension": ".py",
   "mimetype": "text/x-python",
   "name": "python",
   "nbconvert_exporter": "python",
   "pygments_lexer": "ipython3",
   "version": "3.11.4"
  }
 },
 "nbformat": 4,
 "nbformat_minor": 5
}
