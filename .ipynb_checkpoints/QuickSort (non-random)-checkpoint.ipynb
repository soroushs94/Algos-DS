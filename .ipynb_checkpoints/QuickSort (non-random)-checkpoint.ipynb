{
 "cells": [
  {
   "cell_type": "code",
   "execution_count": null,
   "id": "97108458",
   "metadata": {},
   "outputs": [],
   "source": [
    "array = [5,4,9,2,6,4,8,1,4,8,3,0,9]\n",
    "\n",
    "def get_pivot(arr):\n",
    "    return arr[0]\n",
    "\n",
    "def quickSort(arr):\n",
    "    if len(arr) <= 1:\n",
    "        return arr\n",
    "    \n",
    "    pivot = get_pivot(arr)\n",
    "    temp = []\n",
    "    for i in range(len(arr)):\n",
    "        if arr[i] < pivot:\n",
    "            temp.append(arr[i])\n",
    "            \n",
    "    for i in range(len(arr)):\n",
    "        if arr[i] == pivot:\n",
    "            temp.append(arr[i])\n",
    "            \n",
    "    index = len(temp)\n",
    "    \n",
    "    if index == len(arr):\n",
    "        arr[0:index-1] = quickSort(temp[0:index-1])\n",
    "        arr[index-1] = pivot\n",
    "        return arr\n",
    "    \n",
    "    for i in range(len(arr)):\n",
    "        if arr[i]>pivot:\n",
    "            temp.append(arr[i])\n",
    "    \n",
    "    arr = temp\n",
    "    \n",
    "    arr[0:index] = quickSort(arr[0:index])\n",
    "    arr[index:] = quickSort(arr[index:])\n",
    "    \n",
    "    return arr\n",
    "    \n",
    "\n",
    "quickSort(array)"
   ]
  }
 ],
 "metadata": {
  "kernelspec": {
   "display_name": "Python 3 (ipykernel)",
   "language": "python",
   "name": "python3"
  },
  "language_info": {
   "codemirror_mode": {
    "name": "ipython",
    "version": 3
   },
   "file_extension": ".py",
   "mimetype": "text/x-python",
   "name": "python",
   "nbconvert_exporter": "python",
   "pygments_lexer": "ipython3",
   "version": "3.11.4"
  }
 },
 "nbformat": 4,
 "nbformat_minor": 5
}
