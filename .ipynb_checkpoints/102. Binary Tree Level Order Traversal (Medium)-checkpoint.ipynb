{
 "cells": [
  {
   "cell_type": "code",
   "execution_count": 14,
   "id": "ef8b3cd0",
   "metadata": {},
   "outputs": [],
   "source": [
    "class Solution:\n",
    "    def levelOrder(self, root):\n",
    "        if not root:\n",
    "            return []\n",
    "\n",
    "        queue = [root]\n",
    "        res = []\n",
    "\n",
    "        while queue:\n",
    "            lev_res = []\n",
    "            for i in range(len(queue)):\n",
    "                item = queue[0]\n",
    "                queue.remove(item)\n",
    "                lev_res.append(item.val)\n",
    "                if item.left:\n",
    "                    queue.append(item.left)\n",
    "                if item.right:\n",
    "                    queue.append(item.right)\n",
    "            res.append(lev_res)\n",
    "\n",
    "        return res\n"
   ]
  },
  {
   "cell_type": "code",
   "execution_count": null,
   "id": "b06c20aa",
   "metadata": {},
   "outputs": [],
   "source": [
    "from collections import deque\n",
    "\n",
    "class Solution:\n",
    "    def levelOrder(self, root):\n",
    "        if not root:\n",
    "            return []\n",
    "\n",
    "        queue = deque()\n",
    "        queue.append(root)\n",
    "        res = []\n",
    "\n",
    "        while queue:\n",
    "            lev_res = []\n",
    "            for i in range(len(queue)):\n",
    "                item = queue.popleft()\n",
    "                lev_res.append(item.val)\n",
    "                if item.left:\n",
    "                    queue.append(item.left)\n",
    "                if item.right:\n",
    "                    queue.append(item.right)\n",
    "            res.append(lev_res)\n",
    "\n",
    "        return res\n"
   ]
  }
 ],
 "metadata": {
  "kernelspec": {
   "display_name": "Python 3 (ipykernel)",
   "language": "python",
   "name": "python3"
  },
  "language_info": {
   "codemirror_mode": {
    "name": "ipython",
    "version": 3
   },
   "file_extension": ".py",
   "mimetype": "text/x-python",
   "name": "python",
   "nbconvert_exporter": "python",
   "pygments_lexer": "ipython3",
   "version": "3.11.4"
  }
 },
 "nbformat": 4,
 "nbformat_minor": 5
}
