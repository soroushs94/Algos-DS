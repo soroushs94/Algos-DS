{
 "cells": [
  {
   "cell_type": "code",
   "execution_count": null,
   "id": "83ad1287",
   "metadata": {},
   "outputs": [],
   "source": [
    "array = [5,4,2,6,4,8,1,4,8,3,0,9]\n",
    "\n",
    "def mergeSort(arr,s,e):\n",
    "    \n",
    "    if e<=s:\n",
    "        return arr\n",
    "    \n",
    "    m = (e+s) // 2\n",
    "    \n",
    "    mergeSort(arr,s,m)\n",
    "    mergeSort(arr,m+1,e)\n",
    "    merge(arr,s,e)\n",
    "    \n",
    "    return arr\n",
    "\n",
    "def merge(arr,s,e):\n",
    "    \n",
    "    m = (s+e)//2\n",
    "    \n",
    "    l = arr[s:m+1]\n",
    "    r = arr[m+1:e+1]\n",
    "    \n",
    "    i = 0\n",
    "    j = 0\n",
    "    k = s\n",
    "    \n",
    "    while (i<m-s+1) and (j<e-m):\n",
    "        if l[i] <= r[j]:\n",
    "            arr[k] = l[i]\n",
    "            i += 1\n",
    "            k += 1\n",
    "        else:\n",
    "            arr[k] = r[j]\n",
    "            j += 1\n",
    "            k += 1\n",
    "            \n",
    "    while i < m-s+1:\n",
    "        arr[k] = l[i]\n",
    "        k += 1\n",
    "        i += 1\n",
    "        \n",
    "    while j < e-m:\n",
    "        arr[k] = r[j]\n",
    "        k += 1\n",
    "        j += 1\n",
    "        \n",
    "    return arr\n",
    "\n",
    "mergeSort(array,0,len(array)-1)"
   ]
  }
 ],
 "metadata": {
  "kernelspec": {
   "display_name": "Python 3 (ipykernel)",
   "language": "python",
   "name": "python3"
  },
  "language_info": {
   "codemirror_mode": {
    "name": "ipython",
    "version": 3
   },
   "file_extension": ".py",
   "mimetype": "text/x-python",
   "name": "python",
   "nbconvert_exporter": "python",
   "pygments_lexer": "ipython3",
   "version": "3.11.4"
  }
 },
 "nbformat": 4,
 "nbformat_minor": 5
}
