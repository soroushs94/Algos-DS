{
 "cells": [
  {
   "cell_type": "code",
   "execution_count": null,
   "id": "d96199a2",
   "metadata": {},
   "outputs": [],
   "source": [
    "class Solution:\n",
    "    def guessNumber(self, n: int) -> int:\n",
    "        upper = 2**32 - 1\n",
    "        lower = 1\n",
    "        while guess(n):\n",
    "            if guess(n) > 0:\n",
    "                lower = n\n",
    "            else:\n",
    "                upper = n\n",
    "            n = (lower + upper) // 2\n",
    "        return n"
   ]
  }
 ],
 "metadata": {
  "kernelspec": {
   "display_name": "Python 3 (ipykernel)",
   "language": "python",
   "name": "python3"
  },
  "language_info": {
   "codemirror_mode": {
    "name": "ipython",
    "version": 3
   },
   "file_extension": ".py",
   "mimetype": "text/x-python",
   "name": "python",
   "nbconvert_exporter": "python",
   "pygments_lexer": "ipython3",
   "version": "3.11.4"
  }
 },
 "nbformat": 4,
 "nbformat_minor": 5
}
