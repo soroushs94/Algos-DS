{
 "cells": [
  {
   "cell_type": "code",
   "execution_count": 71,
   "id": "d6002f3a",
   "metadata": {},
   "outputs": [],
   "source": [
    "class MinHeap:\n",
    "    def __init__(self):\n",
    "        self.heap = []\n",
    "\n",
    "    def push(self,value):\n",
    "        self.heap.append(value)\n",
    "        current_idx = len(self.heap) - 1\n",
    "        parent_idx = (current_idx - 1) // 2\n",
    "        while current_idx > 0 and self.heap[current_idx] < self.heap[parent_idx]:\n",
    "            self.heap[current_idx] , self.heap[parent_idx] = self.heap[parent_idx], self.heap[current_idx]\n",
    "            current_idx = parent_idx\n",
    "            parent_idx = (current_idx - 1) // 2\n",
    "\n",
    "    def pop(self):\n",
    "        if len(self.heap) == 0:\n",
    "            return None\n",
    "\n",
    "        self.heap[0], self.heap[-1] = self.heap[-1], self.heap[0]\n",
    "        return_value = self.heap.pop()\n",
    "        length = len(self.heap)\n",
    "        curr = 0\n",
    "        child_1 = curr*2 + 1\n",
    "        child_2 = curr*2 + 2\n",
    "\n",
    "        while (child_1 < length):\n",
    "            if child_2 < length:\n",
    "                if self.heap[child_1] <= self.heap[child_2]:\n",
    "                    min_child = child_1\n",
    "                else:\n",
    "                    min_child = child_2\n",
    "            else:\n",
    "                min_child = child_1\n",
    "\n",
    "            if self.heap[min_child] < self.heap[curr]:\n",
    "                self.heap[min_child], self.heap[curr] = self.heap[curr], self.heap[min_child]\n",
    "                curr = min_child\n",
    "                child_1 = curr*2 + 1\n",
    "                child_2 = curr*2 + 2\n",
    "            else:\n",
    "                break\n",
    "        return return_value\n",
    "    def __str__(self):\n",
    "        return str(self.heap)\n"
   ]
  },
  {
   "cell_type": "code",
   "execution_count": 82,
   "id": "811a42a4",
   "metadata": {},
   "outputs": [],
   "source": [
    "heap = MinHeap()"
   ]
  },
  {
   "cell_type": "code",
   "execution_count": 83,
   "id": "86d6f1af",
   "metadata": {},
   "outputs": [],
   "source": [
    "heap.push(1)\n",
    "heap.push(12)\n",
    "heap.push(14)\n",
    "heap.push(5)\n",
    "heap.push(4)\n",
    "heap.push(4)\n"
   ]
  },
  {
   "cell_type": "code",
   "execution_count": 84,
   "id": "47b8bb18",
   "metadata": {},
   "outputs": [
    {
     "name": "stdout",
     "output_type": "stream",
     "text": [
      "[1, 4, 4, 12, 5, 14]\n"
     ]
    }
   ],
   "source": [
    "print(heap)"
   ]
  },
  {
   "cell_type": "code",
   "execution_count": 85,
   "id": "bc5af8b4",
   "metadata": {},
   "outputs": [
    {
     "data": {
      "text/plain": [
       "1"
      ]
     },
     "execution_count": 85,
     "metadata": {},
     "output_type": "execute_result"
    }
   ],
   "source": [
    "heap.pop()"
   ]
  },
  {
   "cell_type": "code",
   "execution_count": 86,
   "id": "3e14f5e1",
   "metadata": {},
   "outputs": [
    {
     "name": "stdout",
     "output_type": "stream",
     "text": [
      "[5, 12, 14]\n"
     ]
    }
   ],
   "source": [
    "heap.pop()\n",
    "heap.pop()\n",
    "print(heap)"
   ]
  },
  {
   "cell_type": "code",
   "execution_count": 87,
   "id": "cf405258",
   "metadata": {},
   "outputs": [
    {
     "name": "stdout",
     "output_type": "stream",
     "text": [
      "[]\n"
     ]
    }
   ],
   "source": [
    "heap.pop()\n",
    "heap.pop()\n",
    "heap.pop()\n",
    "heap.pop()\n",
    "print(heap)"
   ]
  }
 ],
 "metadata": {
  "kernelspec": {
   "display_name": "Python 3 (ipykernel)",
   "language": "python",
   "name": "python3"
  },
  "language_info": {
   "codemirror_mode": {
    "name": "ipython",
    "version": 3
   },
   "file_extension": ".py",
   "mimetype": "text/x-python",
   "name": "python",
   "nbconvert_exporter": "python",
   "pygments_lexer": "ipython3",
   "version": "3.11.4"
  }
 },
 "nbformat": 4,
 "nbformat_minor": 5
}
