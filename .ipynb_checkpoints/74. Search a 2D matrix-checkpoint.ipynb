{
 "cells": [
  {
   "cell_type": "code",
   "execution_count": 2,
   "id": "0e56a2d1",
   "metadata": {},
   "outputs": [],
   "source": [
    "class Solution:\n",
    "    def searchMatrix(self, matrix: List[List[int]], target: int) -> bool:\n",
    "        row = self.findRow(matrix,target)\n",
    "        if row == -1:\n",
    "            return False\n",
    "        else:\n",
    "            return self.binarySearch(matrix[row],target)\n",
    "\n",
    "    def findRow(self,matrix,target):\n",
    "        if (matrix[0][0] > target) or (matrix[-1][-1]<target):\n",
    "            return -1\n",
    "\n",
    "        l = 0\n",
    "        r = len(matrix) - 1\n",
    "        while l <=r:\n",
    "            m = (l + r) // 2\n",
    "            if (matrix[m][0]<=target) and (matrix[m][-1]>=target):\n",
    "                return m\n",
    "            elif matrix[m][0]>target:\n",
    "                r = m - 1\n",
    "            else:\n",
    "                l = m + 1\n",
    "        return -1\n",
    "\n",
    "    def binarySearch(self,arr,target):\n",
    "        l = 0\n",
    "        r = len(arr) - 1\n",
    "\n",
    "        while l <= r:\n",
    "            m = (r+l) // 2\n",
    "            if arr[m] == target:\n",
    "                return True\n",
    "            elif arr[m]>target:\n",
    "                r = m - 1\n",
    "            else:\n",
    "                l = m + 1\n",
    "\n",
    "        return False"
   ]
  }
 ],
 "metadata": {
  "kernelspec": {
   "display_name": "Python 3 (ipykernel)",
   "language": "python",
   "name": "python3"
  },
  "language_info": {
   "codemirror_mode": {
    "name": "ipython",
    "version": 3
   },
   "file_extension": ".py",
   "mimetype": "text/x-python",
   "name": "python",
   "nbconvert_exporter": "python",
   "pygments_lexer": "ipython3",
   "version": "3.11.4"
  }
 },
 "nbformat": 4,
 "nbformat_minor": 5
}
