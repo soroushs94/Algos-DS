{
 "cells": [
  {
   "cell_type": "code",
   "execution_count": null,
   "id": "de60264c",
   "metadata": {},
   "outputs": [],
   "source": [
    "import heapq\n",
    "\n",
    "class Solution:\n",
    "    def lastStoneWeight(self, stones: List[int]) -> int:\n",
    "        if len(stones) == 1:\n",
    "            return stones[0]\n",
    "\n",
    "        stones = [-x for x in stones]\n",
    "        heap = heapq.heapify(stones)\n",
    "        while len(stones) > 1:\n",
    "            stone_1 = heapq.heappop(stones)\n",
    "            stone_2 = heapq.heappop(stones)\n",
    "            if stone_1 != stone_2:\n",
    "                heapq.heappush(stones,- abs(stone_1 - stone_2))\n",
    "        if stones:\n",
    "            return -stones[0]\n",
    "        else:\n",
    "            return 0"
   ]
  }
 ],
 "metadata": {
  "kernelspec": {
   "display_name": "Python 3 (ipykernel)",
   "language": "python",
   "name": "python3"
  },
  "language_info": {
   "codemirror_mode": {
    "name": "ipython",
    "version": 3
   },
   "file_extension": ".py",
   "mimetype": "text/x-python",
   "name": "python",
   "nbconvert_exporter": "python",
   "pygments_lexer": "ipython3",
   "version": "3.11.4"
  }
 },
 "nbformat": 4,
 "nbformat_minor": 5
}
