{
 "cells": [
  {
   "cell_type": "code",
   "execution_count": null,
   "id": "2a09aee3",
   "metadata": {},
   "outputs": [],
   "source": [
    "# Definition for a binary tree node.\n",
    "# class TreeNode:\n",
    "#     def __init__(self, val=0, left=None, right=None):\n",
    "#         self.val = val\n",
    "#         self.left = left\n",
    "#         self.right = right\n",
    "class Solution:\n",
    "    def deleteNode(self, root: Optional[TreeNode], key: int) -> Optional[TreeNode]:\n",
    "        \n",
    "        if not root:\n",
    "            return None\n",
    "\n",
    "        if root.val == key:\n",
    "            if not root.right:\n",
    "                return root.left\n",
    "            elif not root.left:\n",
    "                return root.right\n",
    "            else:\n",
    "                node = root.right\n",
    "                while node.left:\n",
    "                    node = node.left\n",
    "                node.left = root.left\n",
    "            return root.right\n",
    "        \n",
    "        elif root.val > key:\n",
    "            root.left = self.deleteNode(root.left,key)\n",
    "        else:\n",
    "            root.right = self.deleteNode(root.right,key)\n",
    "        \n",
    "        return root\n",
    "           \n",
    "        '''\n",
    "        if not root:\n",
    "            return root\n",
    "        \n",
    "        if key > root.val:\n",
    "            root.right = self.deleteNode(root.right, key)\n",
    "        elif key < root.val:\n",
    "            root.left = self.deleteNode(root.left, key)\n",
    "        else:\n",
    "            if not root.left:\n",
    "                return root.right\n",
    "            elif not root.right:\n",
    "                return root.left\n",
    "            \n",
    "            # Find the min from right subtree\n",
    "            cur = root.right\n",
    "            while cur.left:\n",
    "                cur = cur.left \n",
    "            root.val = cur.val\n",
    "            root.right = self.deleteNode(root.right, root.val)\n",
    "        return root\n",
    "        '''\n"
   ]
  }
 ],
 "metadata": {
  "kernelspec": {
   "display_name": "Python 3 (ipykernel)",
   "language": "python",
   "name": "python3"
  },
  "language_info": {
   "codemirror_mode": {
    "name": "ipython",
    "version": 3
   },
   "file_extension": ".py",
   "mimetype": "text/x-python",
   "name": "python",
   "nbconvert_exporter": "python",
   "pygments_lexer": "ipython3",
   "version": "3.11.4"
  }
 },
 "nbformat": 4,
 "nbformat_minor": 5
}
