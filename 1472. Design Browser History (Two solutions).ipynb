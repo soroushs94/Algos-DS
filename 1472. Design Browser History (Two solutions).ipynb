{
 "cells": [
  {
   "cell_type": "code",
   "execution_count": null,
   "id": "a12edc87",
   "metadata": {},
   "outputs": [],
   "source": [
    "class BrowserHistory:\n",
    "\n",
    "    def __init__(self, homepage: str):\n",
    "        self.homePage = homepage\n",
    "        self.visitedPages = [homepage]\n",
    "        self.currentPage = 0\n",
    "\n",
    "    def visit(self, url: str) -> None:\n",
    "        self.visitedPages = self.visitedPages[0:self.currentPage+1]\n",
    "        self.visitedPages.append(url)\n",
    "        self.currentPage += 1\n",
    "\n",
    "    def back(self, steps: int) -> str:\n",
    "        self.currentPage = max(0,self.currentPage - steps)\n",
    "        return self.visitedPages[self.currentPage]\n",
    "\n",
    "    def forward(self, steps: int) -> str:\n",
    "        self.currentPage = min(len(self.visitedPages) - 1,self.currentPage + steps)\n",
    "        return self.visitedPages[self.currentPage]\n",
    "\n",
    "\n",
    "\"\"\"\n",
    "class Page:\n",
    "    def __init__(self,url,prev_page = None, next_page = None):\n",
    "        self.url = url\n",
    "        self.prev = prev_page\n",
    "        self.next = next_page\n",
    "\n",
    "class BrowserHistory:\n",
    "\n",
    "    def __init__(self, homepage: str):\n",
    "        self.homepage = Page(homepage)\n",
    "        self.currentPage = self.homepage\n",
    "\n",
    "    def visit(self, url: str) -> None:\n",
    "        self.currentPage.next = Page(url,prev_page = self.currentPage)\n",
    "        self.currentPage = self.currentPage.next\n",
    "\n",
    "    def back(self, steps: int) -> str:\n",
    "        while steps > 0:\n",
    "            if self.currentPage.prev:\n",
    "                self.currentPage = self.currentPage.prev\n",
    "            steps -= 1\n",
    "        return self.currentPage.url\n",
    "\n",
    "    def forward(self, steps: int) -> str:\n",
    "        while steps>0:\n",
    "            if self.currentPage.next:\n",
    "                self.currentPage = self.currentPage.next\n",
    "            steps -= 1\n",
    "        return self.currentPage.url\n",
    "\"\"\""
   ]
  }
 ],
 "metadata": {
  "kernelspec": {
   "display_name": "Python 3 (ipykernel)",
   "language": "python",
   "name": "python3"
  },
  "language_info": {
   "codemirror_mode": {
    "name": "ipython",
    "version": 3
   },
   "file_extension": ".py",
   "mimetype": "text/x-python",
   "name": "python",
   "nbconvert_exporter": "python",
   "pygments_lexer": "ipython3",
   "version": "3.11.4"
  }
 },
 "nbformat": 4,
 "nbformat_minor": 5
}
